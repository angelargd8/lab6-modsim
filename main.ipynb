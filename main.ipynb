{
 "cells": [
  {
   "cell_type": "markdown",
   "id": "de5f488d",
   "metadata": {},
   "source": [
    "# Laboratorio 6\n",
    "\n",
    "Integrantes: \n",
    "\n",
    "    - Francis Aguilar - 22243 \n",
    "    - Diego García - 22404 \n",
    "    - Angela García -22869 \n",
    "\n",
    "enlace al repositorio: https://github.com/angelargd8/lab6-modsim"
   ]
  },
  {
   "cell_type": "markdown",
   "id": "1621fa8b",
   "metadata": {},
   "source": [
    "# Teoría parte 1\n",
    "\n",
    "\n",
    "****1. El ELE se encuentra en (S* = N, I* = 0). Describa en términos conceptuales por qué este es un estado de \"balance\" en el sistema. ¿Qué flujos de entrada y salida se están equilibrando exactamente en el compartimento de susceptibles (S) para que su nivel permanezca constante**\n",
    "\n",
    "Un estado de balance en el sistema significa que toda la población es suceptible y no hay individuos infectados. Y eso es así, ya que en ese punto no hay dinámica, entonces nada cambia con el tiempo. Porque si no hay infectados (I=0) no se producen nuevos contagios. Los suceptibles no disminuyen porque no hay infección que los saque del compartimento. Y tampoco hay entradas o salidas netas de S por necimientos, muertes o curaciones, entonces el número de susceptibles permaneces S = N, y el número de infectados y recuperados se mantiene en 0.\n",
    "\n",
    "Los flujos que se equilibran en el compartimiento de S, está el de la entrada, los individuos que se vuelven suceptibles. Y el de la salida que son los individuos que dejan de ser suceptibles. \n",
    "Entonces,\n",
    "$$\n",
    "S* = N\n",
    "I* = 0\n",
    "$$\n",
    "Y el flujo de salida es cero, porque I= 0\n",
    "$$\n",
    "(−𝛽𝑆𝐼/𝑁−βSI/N) = 0\n",
    "$$\n",
    "\n",
    "Entonces, si se considera el modelo básico sin nacimientos ni muertes, el flujo de entrada también es 0. Entonces la tasa de entrada y salidas son iguales, nulas, entonces no existe un cambio neto.\n",
    "$$\n",
    "dS/dt =0\n",
    "$$\n",
    "\n",
    "\n",
    "\n",
    "\n",
    "***2.  El equilibrio endémico representa un estado donde la enfermedad persiste de forma estable. Explique la tensión fundamental que existe en este equilibrio. ¿Qué fuerza impulsa el aumento de infecciones y qué fuerza contraria la frena, permitiendo que el número de infectados I* se mantenga constante y no sea cero?**\n",
    "\n",
    "Si el equilibio endémico alcanza un punto donde la enfermedad no desaparece, pero tambpoco crece indefinidamente, entonces el número de infectados I* se mantiene constante y distinto de 0 en el tiempo. Esto se fa porque dos fuerzas opuestas se equilibran de manera dinámica. La primera es la de propagación, porque cada infectado contagia a nuevos suceptible a a una tasa proporcional a βSI/N y el efecto de este sobre I es que tiende a aumentar el número de los infectados. Mientras que la otra fuerza es la de recuperación, en está los infectados se curan o mueren en una tasa de γI y el efecto que provoca sobre I, es que tiende a disminuor el número de los infectados. Entonces, en ese estado las dos tasas se igualan \n",
    "$$\n",
    "\\text{tasa de infección = tasa de recuperación}\n",
    "$$\n",
    "$$\n",
    "βS∗(I/N) = γI∗\n",
    "$$\n",
    "$$\n",
    "S∗ = γN/β\n",
    "$$\n",
    "Enotces, la cantidad de suceptibles disponibles que es S*, se reduce hasta un punto en que cada infectado en promedio se contagia exactamente a una persona antes de recuperarse, entonces el número de infectados se mantiene estable, porque no aumente ni disminuye. \n",
    "\n",
    "***3. Imagine que quiere construir un Modelo Basado en Agentes (MBA) que represente la misma dinámica de este modelo SIR. ¿Cómo implementaría los procesos de \"nacimiento\" (μN) y \"muerte natural\" (μS, μI, μR) a nivel de agentes individuales? Describa las reglas o eventos que programaría para los agentes.***\n",
    "\n",
    "Los agentes tendrían, estados, edad, relojes por procesospara la infección recuperación, muerte y una red de contactos, que serian los vecinos. \n",
    "Para nacimiento, el nivel sería global, y tendría Δt discreto para cada paso y que se generen nuevos agentes. Mientras que con event-driven se progamarían eventos birth con una tasa de 𝜇𝑁(𝑡), entonces cuando ocurre un nacimiento se crea un agente con state = s con age de 0, se asigna la pisicion en la red, digamos se conecta con k vecinos. \n",
    "Mientras que en la muerte natural, el nivel es individual por agente y estado. Y para cada agente en estado de X∈{S,I,R} muere con \n",
    "$$\n",
    "p_{\\text{death}\\mid X} = 1 - e^{-\\mu_X \\,\\Delta t} \\approx \\mu_X \\,\\Delta t\n",
    "$$\n",
    "eso es de manera discreta. Mientras, que con event-drivem cada agente se lleva un reloj con death|X con tasa de μX. Y al morir se eliminarian los agentes de la simulacion, se liberarian los enlaces a los vecions y las métricas. Estas reglas producen flujos demograficos del SIR, nacimientos añaden susceptibles y las muertes disminuyen individuos proporcionalmente a su estado.\n",
    "\n",
    "\n",
    "**4. Si ejecutara su MBA y graficara el número total de susceptibles contra el número total de infectados (un espacio de estados proyectado), ¿esperaría que las trayectorias se vieran idénticas a las del modelo de ecuaciones diferenciales? ¿Por qué sí o por qué no? Mencione al menos un factor clave inherente a los MBA que introduciría diferencias en el gráfico.**\n",
    "\n",
    "No, no podría esperarse que las trayectorias se vieran identicas a las del modelo de ecuaciones diferenciasles, ya que en un SIR-ODE la trayectoria de (𝑆(𝑡),𝐼(𝑡)) es determinista y suave. Entonces en un MBA aunque el primedio de varias corridas puede ser aproximarse, cada corrida individual se suele desviar y eso es por el factor estocástico por la población que es finita, ya que los contagios, recuperaciones, nacimientos y muertes ocurren por eventos aleatorios entre los agentes discretos. Por lo tanto, la \"fuerza de infección\" fluctúa y la trayectoria tiembla alrededor del camino de ODE, entonces este puede tener bucles irregualares o caer en I=0. \n",
    "\n",
    "\n"
   ]
  },
  {
   "cell_type": "markdown",
   "id": "62652203",
   "metadata": {},
   "source": [
    "# Teoría parte 2\n",
    "\n",
    "\n",
    "**1. La matriz Jacobiana es una \"instantánea\" de las fuerzas del sistema en un punto específico. Explique conceptualmente qué representa el elemento en la esquina inferior izquierda de la matriz (∂(dI/dt)/∂S). ¿Qué nos dice este término sobre la relación entre los susceptibles y la propagación de la infección?**\n",
    "\n",
    "**2. El análisis muestra que cuando R₀ > 1, el Equilibrio Libre de Enfermedad es inestable. Describa en una o dos frases qué significa esto en el contexto de una política de salud pública de \"esperar y ver\". ¿Por qué la inestabilidad de este punto hace que esa política sea arriesgada?**\n",
    "\n",
    "**3. El Equilibrio Endémico, cuando existe, suele ser estable. ¿Qué significa \"estabilidad\" en este contexto? Si una nueva variante del virus, más contagiosa, causa un aumento repentino de casos (una perturbación), ¿qué predice la estabilidad de este equilibrio sobre el comportamiento del sistema a largo plazo?**\n",
    "\n",
    "**4. En un modelo de ecuaciones, un equilibrio estable es un punto fijo. En un MBA, debido a la aleatoriedad (estocasticidad), el sistema nunca se asienta perfectamente en un punto. ¿Cómo se manifestaría un \"equilibrio estable\" en el espacio de estados proyectado de un MBA? Describa cómo se vería la trayectoria del sistema una vez que ha alcanzado este estado de equilibrio.**"
   ]
  }
 ],
 "metadata": {
  "kernelspec": {
   "display_name": "Python 3",
   "language": "python",
   "name": "python3"
  },
  "language_info": {
   "name": "python",
   "version": "3.12.8"
  }
 },
 "nbformat": 4,
 "nbformat_minor": 5
}
